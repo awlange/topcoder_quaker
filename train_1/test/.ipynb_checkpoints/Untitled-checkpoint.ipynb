{
 "cells": [
  {
   "cell_type": "code",
   "execution_count": 3,
   "metadata": {
    "collapsed": false
   },
   "outputs": [],
   "source": [
    "%matplotlib inline\n",
    "import pandas as pd\n",
    "import numpy as np\n",
    "from sklearn import linear_model\n",
    "from sklearn.feature_selection import VarianceThreshold\n",
    "from sklearn import tree\n",
    "\n",
    "\n",
    "import matplotlib.pyplot as plt\n",
    "import seaborn as sns\n",
    "\n",
    "from scipy.fftpack import fft, ifft"
   ]
  },
  {
   "cell_type": "code",
   "execution_count": 4,
   "metadata": {
    "collapsed": false
   },
   "outputs": [],
   "source": [
    "data = pd.read_csv(\"../dat4/data4.csv\", header=None)"
   ]
  },
  {
   "cell_type": "code",
   "execution_count": 5,
   "metadata": {
    "collapsed": false
   },
   "outputs": [],
   "source": [
    "# Fourier transform the channel data\n",
    "df = data.ix[:,:8]\n",
    "\n",
    "for c in range(3):\n",
    "    for d in range(2):\n",
    "        df1 = pd.DataFrame(np.abs(fft(data.ix[:,(9 + (2*c+d)*3600):(8 + (2*c+d+1)*3600)])),\n",
    "                          columns=range((9 + (2*c+d)*3600), (9 + (2*c+d+1)*3600)))\n",
    "        df1 = df1.ix[:, (9 + (2*c+d)*3600):((9 + (2*c+d)*3600) + 1800)]\n",
    "        df = df.join(df1)\n",
    "\n",
    "data2 = df"
   ]
  },
  {
   "cell_type": "code",
   "execution_count": 6,
   "metadata": {
    "collapsed": false
   },
   "outputs": [],
   "source": [
    "data2.columns = range(len(data2.columns))"
   ]
  },
  {
   "cell_type": "code",
   "execution_count": 16,
   "metadata": {
    "collapsed": false
   },
   "outputs": [
    {
     "data": {
      "text/plain": [
       "306"
      ]
     },
     "execution_count": 16,
     "metadata": {},
     "output_type": "execute_result"
    }
   ],
   "source": [
    "len(data2)"
   ]
  },
  {
   "cell_type": "code",
   "execution_count": 30,
   "metadata": {
    "collapsed": false
   },
   "outputs": [],
   "source": [
    "# Integrate frequencies every 18, amounting to 100 points per channel\n",
    "\n",
    "df = data2.ix[:,:8]\n",
    "\n",
    "int_freqs_map = {}\n",
    "\n",
    "for row in range(len(data2)):\n",
    "    int_freqs = []\n",
    "    offset = 9\n",
    "    tot = 0.0\n",
    "    for c in range(3):\n",
    "        for d in range(2):\n",
    "            for i, val in enumerate(pd.Series.tolist(data2.ix[row, offset:(offset + 1800 - 1)])):\n",
    "                tot += val\n",
    "                if (i+1) % 18 == 0:\n",
    "                    int_freqs.append(tot)\n",
    "                    tot = 0.0\n",
    "            offset += 1800\n",
    "    int_freqs_map[row] = int_freqs\n",
    "    \n",
    "df = pd.DataFrame(int_freqs_map).transpose()\n",
    "df.columns = range(9, 9+len(df.columns))\n",
    "data3 = data2.ix[:,:8].join(df)"
   ]
  },
  {
   "cell_type": "code",
   "execution_count": 36,
   "metadata": {
    "collapsed": false
   },
   "outputs": [
    {
     "data": {
      "text/html": [
       "<div>\n",
       "<table border=\"1\" class=\"dataframe\">\n",
       "  <thead>\n",
       "    <tr style=\"text-align: right;\">\n",
       "      <th></th>\n",
       "      <th>0</th>\n",
       "      <th>1</th>\n",
       "      <th>2</th>\n",
       "      <th>3</th>\n",
       "      <th>4</th>\n",
       "      <th>5</th>\n",
       "      <th>6</th>\n",
       "      <th>7</th>\n",
       "      <th>8</th>\n",
       "      <th>9</th>\n",
       "      <th>...</th>\n",
       "      <th>599</th>\n",
       "      <th>600</th>\n",
       "      <th>601</th>\n",
       "      <th>602</th>\n",
       "      <th>603</th>\n",
       "      <th>604</th>\n",
       "      <th>605</th>\n",
       "      <th>606</th>\n",
       "      <th>607</th>\n",
       "      <th>608</th>\n",
       "    </tr>\n",
       "  </thead>\n",
       "  <tbody>\n",
       "    <tr>\n",
       "      <th>0</th>\n",
       "      <td>0</td>\n",
       "      <td>0.13</td>\n",
       "      <td>0.032120</td>\n",
       "      <td>0.509370</td>\n",
       "      <td>0.000079</td>\n",
       "      <td>0.510028</td>\n",
       "      <td>0.000082</td>\n",
       "      <td>0.515443</td>\n",
       "      <td>0.000148</td>\n",
       "      <td>0.157663</td>\n",
       "      <td>...</td>\n",
       "      <td>0.002983</td>\n",
       "      <td>0.002824</td>\n",
       "      <td>0.005341</td>\n",
       "      <td>0.001488</td>\n",
       "      <td>0.001175</td>\n",
       "      <td>0.001778</td>\n",
       "      <td>0.001569</td>\n",
       "      <td>0.000816</td>\n",
       "      <td>0.001081</td>\n",
       "      <td>0.000225</td>\n",
       "    </tr>\n",
       "    <tr>\n",
       "      <th>1</th>\n",
       "      <td>0</td>\n",
       "      <td>0.13</td>\n",
       "      <td>0.001593</td>\n",
       "      <td>0.509763</td>\n",
       "      <td>0.000067</td>\n",
       "      <td>0.509639</td>\n",
       "      <td>0.000062</td>\n",
       "      <td>0.509680</td>\n",
       "      <td>0.000058</td>\n",
       "      <td>0.155159</td>\n",
       "      <td>...</td>\n",
       "      <td>0.001941</td>\n",
       "      <td>0.001526</td>\n",
       "      <td>0.001392</td>\n",
       "      <td>0.001352</td>\n",
       "      <td>0.000784</td>\n",
       "      <td>0.000919</td>\n",
       "      <td>0.000728</td>\n",
       "      <td>0.000515</td>\n",
       "      <td>0.000244</td>\n",
       "      <td>0.000142</td>\n",
       "    </tr>\n",
       "    <tr>\n",
       "      <th>2</th>\n",
       "      <td>0</td>\n",
       "      <td>0.13</td>\n",
       "      <td>0.068297</td>\n",
       "      <td>0.512376</td>\n",
       "      <td>0.000104</td>\n",
       "      <td>0.513407</td>\n",
       "      <td>0.001192</td>\n",
       "      <td>0.509416</td>\n",
       "      <td>0.000079</td>\n",
       "      <td>0.524075</td>\n",
       "      <td>...</td>\n",
       "      <td>0.003331</td>\n",
       "      <td>0.002700</td>\n",
       "      <td>0.003195</td>\n",
       "      <td>0.002231</td>\n",
       "      <td>0.002495</td>\n",
       "      <td>0.001576</td>\n",
       "      <td>0.001305</td>\n",
       "      <td>0.000906</td>\n",
       "      <td>0.000634</td>\n",
       "      <td>0.000248</td>\n",
       "    </tr>\n",
       "    <tr>\n",
       "      <th>3</th>\n",
       "      <td>0</td>\n",
       "      <td>0.13</td>\n",
       "      <td>0.001368</td>\n",
       "      <td>0.515091</td>\n",
       "      <td>0.001375</td>\n",
       "      <td>0.506400</td>\n",
       "      <td>0.001565</td>\n",
       "      <td>0.511174</td>\n",
       "      <td>0.000909</td>\n",
       "      <td>0.980156</td>\n",
       "      <td>...</td>\n",
       "      <td>0.015703</td>\n",
       "      <td>0.017142</td>\n",
       "      <td>0.012866</td>\n",
       "      <td>0.015369</td>\n",
       "      <td>0.012990</td>\n",
       "      <td>0.010974</td>\n",
       "      <td>0.009394</td>\n",
       "      <td>0.005546</td>\n",
       "      <td>0.003322</td>\n",
       "      <td>0.001170</td>\n",
       "    </tr>\n",
       "    <tr>\n",
       "      <th>4</th>\n",
       "      <td>0</td>\n",
       "      <td>0.13</td>\n",
       "      <td>0.034889</td>\n",
       "      <td>0.509340</td>\n",
       "      <td>0.000303</td>\n",
       "      <td>0.509514</td>\n",
       "      <td>0.000010</td>\n",
       "      <td>0.509799</td>\n",
       "      <td>0.000626</td>\n",
       "      <td>0.128346</td>\n",
       "      <td>...</td>\n",
       "      <td>0.006070</td>\n",
       "      <td>0.004747</td>\n",
       "      <td>0.004483</td>\n",
       "      <td>0.003583</td>\n",
       "      <td>0.003193</td>\n",
       "      <td>0.002143</td>\n",
       "      <td>0.001475</td>\n",
       "      <td>0.001367</td>\n",
       "      <td>0.000975</td>\n",
       "      <td>0.000344</td>\n",
       "    </tr>\n",
       "  </tbody>\n",
       "</table>\n",
       "<p>5 rows × 609 columns</p>\n",
       "</div>"
      ],
      "text/plain": [
       "   0     1         2         3         4         5         6         7    \\\n",
       "0    0  0.13  0.032120  0.509370  0.000079  0.510028  0.000082  0.515443   \n",
       "1    0  0.13  0.001593  0.509763  0.000067  0.509639  0.000062  0.509680   \n",
       "2    0  0.13  0.068297  0.512376  0.000104  0.513407  0.001192  0.509416   \n",
       "3    0  0.13  0.001368  0.515091  0.001375  0.506400  0.001565  0.511174   \n",
       "4    0  0.13  0.034889  0.509340  0.000303  0.509514  0.000010  0.509799   \n",
       "\n",
       "        8         9      ...          599       600       601       602  \\\n",
       "0  0.000148  0.157663    ...     0.002983  0.002824  0.005341  0.001488   \n",
       "1  0.000058  0.155159    ...     0.001941  0.001526  0.001392  0.001352   \n",
       "2  0.000079  0.524075    ...     0.003331  0.002700  0.003195  0.002231   \n",
       "3  0.000909  0.980156    ...     0.015703  0.017142  0.012866  0.015369   \n",
       "4  0.000626  0.128346    ...     0.006070  0.004747  0.004483  0.003583   \n",
       "\n",
       "        603       604       605       606       607       608  \n",
       "0  0.001175  0.001778  0.001569  0.000816  0.001081  0.000225  \n",
       "1  0.000784  0.000919  0.000728  0.000515  0.000244  0.000142  \n",
       "2  0.002495  0.001576  0.001305  0.000906  0.000634  0.000248  \n",
       "3  0.012990  0.010974  0.009394  0.005546  0.003322  0.001170  \n",
       "4  0.003193  0.002143  0.001475  0.001367  0.000975  0.000344  \n",
       "\n",
       "[5 rows x 609 columns]"
      ]
     },
     "execution_count": 36,
     "metadata": {},
     "output_type": "execute_result"
    }
   ],
   "source": [
    "data3.head()"
   ]
  },
  {
   "cell_type": "code",
   "execution_count": 37,
   "metadata": {
    "collapsed": false
   },
   "outputs": [],
   "source": [
    "positives = data3[data3[0] == 1]\n",
    "negatives = data3[data3[0] == 0]\n",
    "positives_sub = positives[:16]\n",
    "positives_sub_comp = positives[16:]"
   ]
  },
  {
   "cell_type": "code",
   "execution_count": 339,
   "metadata": {
    "collapsed": false
   },
   "outputs": [
    {
     "data": {
      "text/plain": [
       "<matplotlib.axes._subplots.AxesSubplot at 0x113cf7b00>"
      ]
     },
     "execution_count": 339,
     "metadata": {},
     "output_type": "execute_result"
    },
    {
     "data": {
      "image/png": "[encoded data removed]",
      "text/plain": [
       "<matplotlib.figure.Figure at 0x11b891080>"
      ]
     },
     "metadata": {},
     "output_type": "display_data"
    }
   ],
   "source": [
    "c = 1\n",
    "positives.ix[110, (9 + (c-1) * 1800):(9 + c*1800)].plot()"
   ]
  },
  {
   "cell_type": "code",
   "execution_count": 296,
   "metadata": {
    "collapsed": false
   },
   "outputs": [
    {
     "data": {
      "text/plain": [
       "Int64Index([  5,   9,  23,  28,  37,  48,  57,  63,  75,  78,  87,  99, 110,\n",
       "            121, 130, 139, 144, 153, 160, 165, 174, 191, 193, 203, 213, 221,\n",
       "            229, 240, 244, 257, 268, 274, 280, 283, 290, 298, 301],\n",
       "           dtype='int64')"
      ]
     },
     "execution_count": 296,
     "metadata": {},
     "output_type": "execute_result"
    }
   ],
   "source": [
    "positives.index"
   ]
  },
  {
   "cell_type": "code",
   "execution_count": 38,
   "metadata": {
    "collapsed": false
   },
   "outputs": [],
   "source": [
    "# Bootstrap samples\n",
    "n = 20\n",
    "\n",
    "# sample_positives = positives.sample(n, replace=True)\n",
    "sample_positives = positives_sub.sample(n, replace=True)\n",
    "sample_negatives = negatives.sample(n, replace=True)\n",
    "df = sample_positives.append(sample_negatives)"
   ]
  },
  {
   "cell_type": "code",
   "execution_count": 39,
   "metadata": {
    "collapsed": true
   },
   "outputs": [],
   "source": [
    "clf = linear_model.LogisticRegression()"
   ]
  },
  {
   "cell_type": "code",
   "execution_count": 40,
   "metadata": {
    "collapsed": false
   },
   "outputs": [],
   "source": [
    "X = df[df.columns[1:]]\n",
    "y = df[0]\n",
    "\n",
    "Xall = data3[data3.columns[1:]]\n",
    "yall = data3[0]"
   ]
  },
  {
   "cell_type": "code",
   "execution_count": 41,
   "metadata": {
    "collapsed": false
   },
   "outputs": [
    {
     "data": {
      "text/plain": [
       "0.92500000000000004"
      ]
     },
     "execution_count": 41,
     "metadata": {},
     "output_type": "execute_result"
    }
   ],
   "source": [
    "model = clf.fit(X, y)\n",
    "model.score(X, y)"
   ]
  },
  {
   "cell_type": "code",
   "execution_count": 42,
   "metadata": {
    "collapsed": false
   },
   "outputs": [
    {
     "data": {
      "text/plain": [
       "0.52941176470588236"
      ]
     },
     "execution_count": 42,
     "metadata": {},
     "output_type": "execute_result"
    }
   ],
   "source": [
    "model.score(Xall, yall)"
   ]
  },
  {
   "cell_type": "code",
   "execution_count": 43,
   "metadata": {
    "collapsed": false
   },
   "outputs": [
    {
     "data": {
      "text/plain": [
       "array([1, 1, 1, 1, 1, 1, 1, 1, 1, 1, 1, 1, 1, 1, 1, 1, 1, 1, 1, 1, 1, 0, 0,\n",
       "       0, 0, 0, 0, 1, 0, 0, 1, 0, 0, 0, 0, 0, 0, 0, 0, 0])"
      ]
     },
     "execution_count": 43,
     "metadata": {},
     "output_type": "execute_result"
    }
   ],
   "source": [
    "model.predict(X)"
   ]
  },
  {
   "cell_type": "code",
   "execution_count": 15,
   "metadata": {
    "collapsed": false
   },
   "outputs": [
    {
     "data": {
      "text/plain": [
       "0.59210526315789469"
      ]
     },
     "execution_count": 15,
     "metadata": {},
     "output_type": "execute_result"
    }
   ],
   "source": []
  },
  {
   "cell_type": "code",
   "execution_count": 83,
   "metadata": {
    "collapsed": false
   },
   "outputs": [],
   "source": [
    "Xt = model.transform(X)"
   ]
  },
  {
   "cell_type": "code",
   "execution_count": 44,
   "metadata": {
    "collapsed": false
   },
   "outputs": [
    {
     "data": {
      "text/plain": [
       "1.0"
      ]
     },
     "execution_count": 44,
     "metadata": {},
     "output_type": "execute_result"
    }
   ],
   "source": [
    "dlf = tree.DecisionTreeClassifier()\n",
    "tmodel = dlf.fit(X, y)\n",
    "tmodel.score(X, y)"
   ]
  },
  {
   "cell_type": "code",
   "execution_count": 45,
   "metadata": {
    "collapsed": false
   },
   "outputs": [
    {
     "data": {
      "text/plain": [
       "0.61111111111111116"
      ]
     },
     "execution_count": 45,
     "metadata": {},
     "output_type": "execute_result"
    }
   ],
   "source": [
    "tmodel.score(Xall, yall)"
   ]
  },
  {
   "cell_type": "code",
   "execution_count": 46,
   "metadata": {
    "collapsed": false,
    "scrolled": true
   },
   "outputs": [
    {
     "data": {
      "text/plain": [
       "{217: 0.3008333333333334,\n",
       " 237: 0.09375,\n",
       " 312: 0.09499999999999997,\n",
       " 415: 0.5104166666666666}"
      ]
     },
     "execution_count": 46,
     "metadata": {},
     "output_type": "execute_result"
    }
   ],
   "source": [
    "x = tmodel.feature_importances_.tolist()\n",
    "xmap = {i: val for i, val in enumerate(x) if val > 0.00001}\n",
    "xmap"
   ]
  },
  {
   "cell_type": "code",
   "execution_count": 128,
   "metadata": {
    "collapsed": false
   },
   "outputs": [
    {
     "data": {
      "text/plain": [
       "0.375"
      ]
     },
     "execution_count": 128,
     "metadata": {},
     "output_type": "execute_result"
    }
   ],
   "source": [
    "tmodel.score(positives_sub_comp[positives_sub_comp.columns[1:]], positives_sub_comp[0])"
   ]
  },
  {
   "cell_type": "code",
   "execution_count": 54,
   "metadata": {
    "collapsed": false
   },
   "outputs": [
    {
     "name": "stdout",
     "output_type": "stream",
     "text": [
      "0.758169934641\n"
     ]
    },
    {
     "data": {
      "text/plain": [
       "[(0.011982608800248238, 540),\n",
       " (0.010902415795278113, 537),\n",
       " (0.010551409592408545, 567),\n",
       " (0.01021723534828152, 444),\n",
       " (0.009941753392918135, 544),\n",
       " (0.009130570463999342, 286),\n",
       " (0.008694914980338229, 592),\n",
       " (0.00824331744497127, 409),\n",
       " (0.007923232501607024, 535),\n",
       " (0.007674240667119151, 570),\n",
       " (0.007459005017760476, 470),\n",
       " (0.007303387625000895, 52),\n",
       " (0.007238188771215821, 437),\n",
       " (0.007157755877900773, 604),\n",
       " (0.006873743323006859, 440),\n",
       " (0.006794544460917203, 555),\n",
       " (0.006580312093761302, 557),\n",
       " (0.006485868113573788, 590),\n",
       " (0.0063419502054949724, 250),\n",
       " (0.006075047529458756, 300),\n",
       " (0.006018812919817829, 406),\n",
       " (0.006000801504188141, 462),\n",
       " (0.005865049895457453, 515),\n",
       " (0.0058516568780585575, 215),\n",
       " (0.005727062163126311, 586),\n",
       " (0.005592468537414134, 516),\n",
       " (0.005487620978133426, 399),\n",
       " (0.005306071927200781, 461),\n",
       " (0.0052179334863999526, 275),\n",
       " (0.0052062373603781464, 407),\n",
       " (0.0051335986032106365, 538),\n",
       " (0.005119510938723074, 152),\n",
       " (0.005063869600755164, 26),\n",
       " (0.005055368573436185, 402),\n",
       " (0.00504722856482884, 465),\n",
       " (0.004992436511724452, 96),\n",
       " (0.004951137393487917, 410),\n",
       " (0.0048952681538206085, 561),\n",
       " (0.004840555720041845, 306),\n",
       " (0.004839510466792769, 292),\n",
       " (0.004813083285964149, 294),\n",
       " (0.004790409752444294, 312),\n",
       " (0.0047607476968742615, 413),\n",
       " (0.004757616656037037, 500),\n",
       " (0.004678691649388465, 513),\n",
       " (0.004619713297650191, 480),\n",
       " (0.004564911497850964, 430),\n",
       " (0.00453027644981093, 390),\n",
       " (0.004468121618062945, 527),\n",
       " (0.004436293592267686, 280)]"
      ]
     },
     "execution_count": 54,
     "metadata": {},
     "output_type": "execute_result"
    }
   ],
   "source": [
    "from sklearn.ensemble import RandomForestClassifier\n",
    "rfc = RandomForestClassifier(n_estimators=200)\n",
    "rmodel = rfc.fit(X, y)\n",
    "rmodel.score(X, y)\n",
    "print(rmodel.score(Xall, yall))\n",
    "x = rmodel.feature_importances_.tolist()\n",
    "z = [(val, i) for i, val in enumerate(x)]\n",
    "z.sort(reverse=True)\n",
    "z[:50]"
   ]
  },
  {
   "cell_type": "code",
   "execution_count": 317,
   "metadata": {
    "collapsed": false
   },
   "outputs": [
    {
     "data": {
      "text/html": [
       "<div>\n",
       "<table border=\"1\" class=\"dataframe\">\n",
       "  <thead>\n",
       "    <tr style=\"text-align: right;\">\n",
       "      <th></th>\n",
       "      <th>1</th>\n",
       "      <th>2</th>\n",
       "      <th>3</th>\n",
       "      <th>4</th>\n",
       "      <th>5</th>\n",
       "      <th>6</th>\n",
       "      <th>7</th>\n",
       "      <th>8</th>\n",
       "      <th>9</th>\n",
       "      <th>10</th>\n",
       "      <th>...</th>\n",
       "      <th>10805</th>\n",
       "      <th>10806</th>\n",
       "      <th>10807</th>\n",
       "      <th>10808</th>\n",
       "      <th>10809</th>\n",
       "      <th>10810</th>\n",
       "      <th>10811</th>\n",
       "      <th>10812</th>\n",
       "      <th>10813</th>\n",
       "      <th>10814</th>\n",
       "    </tr>\n",
       "  </thead>\n",
       "  <tbody>\n",
       "    <tr>\n",
       "      <th>28</th>\n",
       "      <td>0.40</td>\n",
       "      <td>0.002881</td>\n",
       "      <td>0.510160</td>\n",
       "      <td>0.000737</td>\n",
       "      <td>0.512901</td>\n",
       "      <td>0.000428</td>\n",
       "      <td>0.516843</td>\n",
       "      <td>0.000371</td>\n",
       "      <td>2.161444e-14</td>\n",
       "      <td>0.014338</td>\n",
       "      <td>...</td>\n",
       "      <td>0.000008</td>\n",
       "      <td>0.000001</td>\n",
       "      <td>0.000008</td>\n",
       "      <td>0.000004</td>\n",
       "      <td>0.000002</td>\n",
       "      <td>0.000003</td>\n",
       "      <td>0.000002</td>\n",
       "      <td>0.000002</td>\n",
       "      <td>9.588947e-07</td>\n",
       "      <td>1.192622e-18</td>\n",
       "    </tr>\n",
       "    <tr>\n",
       "      <th>121</th>\n",
       "      <td>0.33</td>\n",
       "      <td>0.002381</td>\n",
       "      <td>0.509325</td>\n",
       "      <td>0.002736</td>\n",
       "      <td>0.509667</td>\n",
       "      <td>0.003576</td>\n",
       "      <td>0.510037</td>\n",
       "      <td>0.000576</td>\n",
       "      <td>9.215545e-14</td>\n",
       "      <td>0.003353</td>\n",
       "      <td>...</td>\n",
       "      <td>0.000035</td>\n",
       "      <td>0.000043</td>\n",
       "      <td>0.000037</td>\n",
       "      <td>0.000022</td>\n",
       "      <td>0.000021</td>\n",
       "      <td>0.000012</td>\n",
       "      <td>0.000008</td>\n",
       "      <td>0.000008</td>\n",
       "      <td>6.032966e-06</td>\n",
       "      <td>8.673617e-19</td>\n",
       "    </tr>\n",
       "    <tr>\n",
       "      <th>110</th>\n",
       "      <td>0.30</td>\n",
       "      <td>0.000604</td>\n",
       "      <td>0.495164</td>\n",
       "      <td>0.002904</td>\n",
       "      <td>0.508221</td>\n",
       "      <td>0.000349</td>\n",
       "      <td>0.509962</td>\n",
       "      <td>0.000059</td>\n",
       "      <td>7.731663e-15</td>\n",
       "      <td>5.388324</td>\n",
       "      <td>...</td>\n",
       "      <td>0.000013</td>\n",
       "      <td>0.000003</td>\n",
       "      <td>0.000008</td>\n",
       "      <td>0.000002</td>\n",
       "      <td>0.000007</td>\n",
       "      <td>0.000008</td>\n",
       "      <td>0.000002</td>\n",
       "      <td>0.000001</td>\n",
       "      <td>2.584521e-06</td>\n",
       "      <td>5.421011e-20</td>\n",
       "    </tr>\n",
       "    <tr>\n",
       "      <th>23</th>\n",
       "      <td>0.30</td>\n",
       "      <td>0.000609</td>\n",
       "      <td>0.509555</td>\n",
       "      <td>0.000106</td>\n",
       "      <td>0.509363</td>\n",
       "      <td>0.000090</td>\n",
       "      <td>0.509337</td>\n",
       "      <td>0.000067</td>\n",
       "      <td>1.652019e-13</td>\n",
       "      <td>0.010762</td>\n",
       "      <td>...</td>\n",
       "      <td>0.000004</td>\n",
       "      <td>0.000006</td>\n",
       "      <td>0.000002</td>\n",
       "      <td>0.000002</td>\n",
       "      <td>0.000004</td>\n",
       "      <td>0.000005</td>\n",
       "      <td>0.000002</td>\n",
       "      <td>0.000001</td>\n",
       "      <td>5.326804e-07</td>\n",
       "      <td>3.794708e-19</td>\n",
       "    </tr>\n",
       "    <tr>\n",
       "      <th>57</th>\n",
       "      <td>0.07</td>\n",
       "      <td>0.000875</td>\n",
       "      <td>0.510063</td>\n",
       "      <td>0.000479</td>\n",
       "      <td>0.510109</td>\n",
       "      <td>0.000328</td>\n",
       "      <td>0.508715</td>\n",
       "      <td>0.000393</td>\n",
       "      <td>9.592587e-14</td>\n",
       "      <td>0.036063</td>\n",
       "      <td>...</td>\n",
       "      <td>0.000112</td>\n",
       "      <td>0.000072</td>\n",
       "      <td>0.000078</td>\n",
       "      <td>0.000042</td>\n",
       "      <td>0.000067</td>\n",
       "      <td>0.000021</td>\n",
       "      <td>0.000015</td>\n",
       "      <td>0.000006</td>\n",
       "      <td>9.121620e-06</td>\n",
       "      <td>8.673617e-19</td>\n",
       "    </tr>\n",
       "  </tbody>\n",
       "</table>\n",
       "<p>5 rows × 10814 columns</p>\n",
       "</div>"
      ],
      "text/plain": [
       "     1         2         3         4         5         6         7      \\\n",
       "28    0.40  0.002881  0.510160  0.000737  0.512901  0.000428  0.516843   \n",
       "121   0.33  0.002381  0.509325  0.002736  0.509667  0.003576  0.510037   \n",
       "110   0.30  0.000604  0.495164  0.002904  0.508221  0.000349  0.509962   \n",
       "23    0.30  0.000609  0.509555  0.000106  0.509363  0.000090  0.509337   \n",
       "57    0.07  0.000875  0.510063  0.000479  0.510109  0.000328  0.508715   \n",
       "\n",
       "        8             9         10         ...          10805     10806  \\\n",
       "28   0.000371  2.161444e-14  0.014338      ...       0.000008  0.000001   \n",
       "121  0.000576  9.215545e-14  0.003353      ...       0.000035  0.000043   \n",
       "110  0.000059  7.731663e-15  5.388324      ...       0.000013  0.000003   \n",
       "23   0.000067  1.652019e-13  0.010762      ...       0.000004  0.000006   \n",
       "57   0.000393  9.592587e-14  0.036063      ...       0.000112  0.000072   \n",
       "\n",
       "        10807     10808     10809     10810     10811     10812         10813  \\\n",
       "28   0.000008  0.000004  0.000002  0.000003  0.000002  0.000002  9.588947e-07   \n",
       "121  0.000037  0.000022  0.000021  0.000012  0.000008  0.000008  6.032966e-06   \n",
       "110  0.000008  0.000002  0.000007  0.000008  0.000002  0.000001  2.584521e-06   \n",
       "23   0.000002  0.000002  0.000004  0.000005  0.000002  0.000001  5.326804e-07   \n",
       "57   0.000078  0.000042  0.000067  0.000021  0.000015  0.000006  9.121620e-06   \n",
       "\n",
       "            10814  \n",
       "28   1.192622e-18  \n",
       "121  8.673617e-19  \n",
       "110  5.421011e-20  \n",
       "23   3.794708e-19  \n",
       "57   8.673617e-19  \n",
       "\n",
       "[5 rows x 10814 columns]"
      ]
     },
     "execution_count": 317,
     "metadata": {},
     "output_type": "execute_result"
    }
   ],
   "source": [
    "X.head()"
   ]
  },
  {
   "cell_type": "code",
   "execution_count": null,
   "metadata": {
    "collapsed": true
   },
   "outputs": [],
   "source": [
    "# More systematic bootstrapping/feature engineering"
   ]
  },
  {
   "cell_type": "code",
   "execution_count": 49,
   "metadata": {
    "collapsed": false
   },
   "outputs": [],
   "source": [
    "n_features = len(df.columns[1:])"
   ]
  },
  {
   "cell_type": "code",
   "execution_count": 50,
   "metadata": {
    "collapsed": false
   },
   "outputs": [
    {
     "data": {
      "text/plain": [
       "608"
      ]
     },
     "execution_count": 50,
     "metadata": {},
     "output_type": "execute_result"
    }
   ],
   "source": [
    "n_features"
   ]
  },
  {
   "cell_type": "code",
   "execution_count": 60,
   "metadata": {
    "collapsed": false
   },
   "outputs": [
    {
     "data": {
      "text/plain": [
       "[(0.032829942696694391, 2),\n",
       " (0.028955231145712516, 4),\n",
       " (0.026239905569094064, 6),\n",
       " (0.019836298584714213, 108),\n",
       " (0.018413369238687666, 1),\n",
       " (0.016078333192440154, 312),\n",
       " (0.011334787273096964, 3),\n",
       " (0.011173968813640965, 217),\n",
       " (0.01098906553901543, 408),\n",
       " (0.0088022328307727077, 8),\n",
       " (0.0086814957487643257, 509),\n",
       " (0.0084554999586007717, 367),\n",
       " (0.0083223078636067722, 540),\n",
       " (0.0077905949748645394, 231),\n",
       " (0.0072608741940490976, 110),\n",
       " (0.0071424948321698427, 267),\n",
       " (0.0071307664535819586, 309),\n",
       " (0.0070359872468004755, 308),\n",
       " (0.0064933664397804746, 508),\n",
       " (0.0062047957781329556, 140),\n",
       " (0.0061350914019779618, 211),\n",
       " (0.0060086623401086076, 0),\n",
       " (0.0054407344712965947, 209),\n",
       " (0.0053282860487068101, 418),\n",
       " (0.0052794334467029967, 5),\n",
       " (0.0052236926934191375, 177),\n",
       " (0.0051089399766387116, 210),\n",
       " (0.0048892969270097151, 208),\n",
       " (0.0048653265575522055, 114),\n",
       " (0.0047385582900610537, 409),\n",
       " (0.0046731566032422022, 10),\n",
       " (0.0046298075042796481, 111),\n",
       " (0.0045842886271874345, 414),\n",
       " (0.0045751650206358784, 212),\n",
       " (0.0044330546682956936, 329),\n",
       " (0.0044163383598817777, 240),\n",
       " (0.0043820548768725544, 366),\n",
       " (0.0042625066071072396, 412),\n",
       " (0.0042445249561812266, 311),\n",
       " (0.0042284672201317337, 60),\n",
       " (0.0040509494121905324, 287),\n",
       " (0.0039412018266898555, 513),\n",
       " (0.003860212658348924, 11),\n",
       " (0.0038423279313837943, 227),\n",
       " (0.0037815766512495964, 151),\n",
       " (0.0037589372325072578, 14),\n",
       " (0.0037554312096867576, 410),\n",
       " (0.0037001765329994691, 328),\n",
       " (0.0036209783823295482, 317),\n",
       " (0.0036018732027556554, 306)]"
      ]
     },
     "execution_count": 60,
     "metadata": {},
     "output_type": "execute_result"
    }
   ],
   "source": [
    "# Bootstrap samples\n",
    "n = 20\n",
    "scale = 10\n",
    "n_iters = 1000\n",
    "\n",
    "feature_aggregate = [0.0 for _ in range(n_features)]\n",
    "for it in range(n_iters):\n",
    "    \n",
    "    sample_positives = positives.sample(n, replace=True)\n",
    "    # sample_positives = positives_sub.sample(n, replace=True)\n",
    "    sample_negatives = negatives.sample(n*scale, replace=True)\n",
    "    df = sample_positives.append(sample_negatives)\n",
    "\n",
    "    X = df[df.columns[1:]]\n",
    "    y = df[0]\n",
    "\n",
    "    dlf = tree.DecisionTreeClassifier(class_weight={0: 0.2, 1: 1.0})\n",
    "    tmodel = dlf.fit(X, y)\n",
    "    all_score = tmodel.score(Xall, yall)\n",
    "#     print(it, all_score)\n",
    "\n",
    "    x = tmodel.feature_importances_.tolist()\n",
    "    for i in range(len(x)):\n",
    "        feature_aggregate[i] += all_score * x[i]\n",
    "\n",
    "\n",
    "# Compute mean\n",
    "feature_aggregate = [f/n_iters for f in feature_aggregate]\n",
    "        \n",
    "# Get aggregrate feature scores \n",
    "xmap = {i: val for i, val in enumerate(feature_aggregate) if val > 0.005}\n",
    "#xmap\n",
    "\n",
    "z = [(val, i) for i, val in enumerate(feature_aggregate)]\n",
    "z.sort(reverse=True)\n",
    "z[:50]\n"
   ]
  },
  {
   "cell_type": "code",
   "execution_count": 62,
   "metadata": {
    "collapsed": false
   },
   "outputs": [
    {
     "data": {
      "text/plain": [
       "609"
      ]
     },
     "execution_count": 62,
     "metadata": {},
     "output_type": "execute_result"
    }
   ],
   "source": [
    "len(positives.transpose())"
   ]
  },
  {
   "cell_type": "code",
   "execution_count": 63,
   "metadata": {
    "collapsed": false
   },
   "outputs": [
    {
     "data": {
      "text/plain": [
       "{0: 0.0060086623401086076,\n",
       " 1: 0.018413369238687666,\n",
       " 2: 0.032829942696694391,\n",
       " 3: 0.011334787273096964,\n",
       " 4: 0.028955231145712516,\n",
       " 5: 0.0052794334467029967,\n",
       " 6: 0.026239905569094064,\n",
       " 8: 0.0088022328307727077,\n",
       " 108: 0.019836298584714213,\n",
       " 110: 0.0072608741940490976,\n",
       " 140: 0.0062047957781329556,\n",
       " 177: 0.0052236926934191375,\n",
       " 209: 0.0054407344712965947,\n",
       " 210: 0.0051089399766387116,\n",
       " 211: 0.0061350914019779618,\n",
       " 217: 0.011173968813640965,\n",
       " 231: 0.0077905949748645394,\n",
       " 267: 0.0071424948321698427,\n",
       " 308: 0.0070359872468004755,\n",
       " 309: 0.0071307664535819586,\n",
       " 312: 0.016078333192440154,\n",
       " 367: 0.0084554999586007717,\n",
       " 408: 0.01098906553901543,\n",
       " 418: 0.0053282860487068101,\n",
       " 508: 0.0064933664397804746,\n",
       " 509: 0.0086814957487643257,\n",
       " 540: 0.0083223078636067722}"
      ]
     },
     "execution_count": 63,
     "metadata": {},
     "output_type": "execute_result"
    }
   ],
   "source": [
    "xmap"
   ]
  },
  {
   "cell_type": "code",
   "execution_count": null,
   "metadata": {
    "collapsed": true
   },
   "outputs": [],
   "source": []
  }
 ],
 "metadata": {
  "kernelspec": {
   "display_name": "Python 3",
   "language": "python",
   "name": "python3"
  },
  "language_info": {
   "codemirror_mode": {
    "name": "ipython",
    "version": 3
   },
   "file_extension": ".py",
   "mimetype": "text/x-python",
   "name": "python",
   "nbconvert_exporter": "python",
   "pygments_lexer": "ipython3",
   "version": "3.4.3"
  }
 },
 "nbformat": 4,
 "nbformat_minor": 0
}
